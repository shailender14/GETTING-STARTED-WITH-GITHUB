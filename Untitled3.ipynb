{
  "metadata": {
    "language_info": {
      "codemirror_mode": {
        "name": "python",
        "version": 3
      },
      "file_extension": ".py",
      "mimetype": "text/x-python",
      "name": "python",
      "nbconvert_exporter": "python",
      "pygments_lexer": "ipython3",
      "version": "3.8"
    },
    "kernelspec": {
      "name": "python",
      "display_name": "Python (Pyodide)",
      "language": "python"
    }
  },
  "nbformat_minor": 4,
  "nbformat": 4,
  "cells": [
    {
      "cell_type": "markdown",
      "source": "# \"My Jupyter Notebook on IBM Watson Studio\"",
      "metadata": {}
    },
    {
      "cell_type": "markdown",
      "source": "**Shailender Pushkar**\n\n\nIm a Aspiring Data Scientist",
      "metadata": {}
    },
    {
      "cell_type": "markdown",
      "source": "*\"I am interested in data science because IT IS A HIGH PAYING JOB IN INDIA\"*",
      "metadata": {}
    },
    {
      "cell_type": "markdown",
      "source": "### ITS A PRACTICE CODE JUST FOR MY FIRST JUPYTER . I WILL DO ADDITION IN THIS.",
      "metadata": {}
    },
    {
      "cell_type": "code",
      "source": "A = 1\nB = 1\nC = A+B\nprint(C)",
      "metadata": {
        "trusted": true
      },
      "execution_count": 8,
      "outputs": [
        {
          "name": "stdout",
          "text": "2\n",
          "output_type": "stream"
        }
      ]
    },
    {
      "cell_type": "markdown",
      "source": "***\n",
      "metadata": {}
    },
    {
      "cell_type": "markdown",
      "source": "*COMPLETED MY \n  1.FIRST JUPYTER NOTEBOOK\n  2.MY PEER ASSIGNMENT\n  3.ASSIGNEMENT ON __https://in.coursera.org/https://in.coursera.org/",
      "metadata": {}
    }
  ]
}